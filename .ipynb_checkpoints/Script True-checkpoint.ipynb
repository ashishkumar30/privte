{
 "cells": [
  {
   "cell_type": "code",
   "execution_count": 1,
   "id": "31530ac3",
   "metadata": {},
   "outputs": [
    {
     "name": "stdout",
     "output_type": "stream",
     "text": [
      "Warning: Incomplete chunk of size 60\n",
      "Data has been written to ICA_UK_Converted_Data.csv\n"
     ]
    }
   ],
   "source": [
    "#!/usr/bin/env python\n",
    "# coding: utf-8\n",
    "\n",
    "# In[29]:\n",
    "\n",
    "\n",
    "import struct\n",
    "import csv\n",
    "\n",
    "def decode_char(byte_data):\n",
    "    \"\"\"Decodes CHAR fields.\"\"\"\n",
    "    return byte_data.decode('utf-8').strip()\n",
    "\n",
    "def decode_int(byte_data, length):\n",
    "    \"\"\"Decodes integer fields of a specified length using big-endian byte order.\"\"\"\n",
    "    return int.from_bytes(byte_data[:length], byteorder='big')\n",
    "\n",
    "def process_binary_file(file_path, byte_fields):\n",
    "    chunk_size = 76  # Fixed record length for ICA\n",
    "\n",
    "    with open(file_path, 'rb') as binary_file:\n",
    "        while chunk := binary_file.read(chunk_size):  # Read file in chunks\n",
    "            if len(chunk) < chunk_size:\n",
    "                print(f\"Warning: Incomplete chunk of size {len(chunk)}\")\n",
    "                continue\n",
    "\n",
    "            record = {}\n",
    "\n",
    "            # Process byte-level fields\n",
    "            for field_name, (start_byte, length, data_type) in byte_fields.items():\n",
    "                field_bytes = chunk[start_byte - 1:start_byte - 1 + length]\n",
    "                if data_type == 'char':\n",
    "                    record[field_name] = decode_char(field_bytes)\n",
    "                elif data_type == 'int':\n",
    "                    record[field_name] = decode_int(field_bytes, length)\n",
    "\n",
    "            yield record  # Yield each record\n",
    "\n",
    "# Define the column structure for ICA\n",
    "byte_fields = {\n",
    "    'week': (1, 4, 'int'),  # 4 bytes for week number\n",
    "    'ica_number': (5, 6, 'int'),  # 6 bytes for ICA number\n",
    "    'store': (11, 5, 'int'),  # 5 bytes for store number\n",
    "    'st_override': (16, 1, 'char'),  # 1 byte for st_override\n",
    "    'event': (17, 4, 'int'),  # 4 bytes for event\n",
    "    'system': (21, 2, 'char'),  # 2 bytes for system\n",
    "    'vendor': (23, 6, 'int'),  # 6 bytes for vendor\n",
    "    'item': (29, 6, 'int'),  # 6 bytes for item\n",
    "    'generation': (35, 1, 'char'),  # 1 byte for generation\n",
    "    'upc_man_override': (36, 1, 'char'),  # 1 byte for upc_man_override\n",
    "    'keycat': (37, 4, 'int'),  # 4 bytes for keycat\n",
    "    'dominance_code': (41, 1, 'char'),  # 1 byte for dominance_code\n",
    "    'source_code': (42, 1, 'char'),  # 1 byte for source_code\n",
    "    'description': (43, 32, 'char'),  # 32 bytes for description\n",
    "    'qc_flag': (75, 1, 'char'),  # 1 byte for qc_flag\n",
    "}\n",
    "\n",
    "# Convert generator output to CSV file\n",
    "binary_file_path = 'ICA.W2376.U0007.S34109.D250310.T213645'\n",
    "output_csv_path = 'ICA_UK_Converted_Data.csv'\n",
    "\n",
    "with open(output_csv_path, 'w', newline='') as csvfile:\n",
    "    fieldnames = [\n",
    "        'week', 'ica_number', 'store', 'st_override', 'event', 'system', 'vendor', 'item', 'generation',\n",
    "        'upc_man_override', 'keycat', 'dominance_code', 'source_code', 'description', 'qc_flag'\n",
    "    ]\n",
    "    writer = csv.DictWriter(csvfile, fieldnames=fieldnames)\n",
    "    writer.writeheader()\n",
    "\n",
    "    for record in process_binary_file(binary_file_path, byte_fields):\n",
    "        writer.writerow(record)\n",
    "\n",
    "print(f\"Data has been written to {output_csv_path}\")\n"
   ]
  },
  {
   "cell_type": "code",
   "execution_count": null,
   "id": "32507834",
   "metadata": {},
   "outputs": [],
   "source": []
  }
 ],
 "metadata": {
  "kernelspec": {
   "display_name": "Python 3 (ipykernel)",
   "language": "python",
   "name": "python3"
  },
  "language_info": {
   "codemirror_mode": {
    "name": "ipython",
    "version": 3
   },
   "file_extension": ".py",
   "mimetype": "text/x-python",
   "name": "python",
   "nbconvert_exporter": "python",
   "pygments_lexer": "ipython3",
   "version": "3.10.11"
  }
 },
 "nbformat": 4,
 "nbformat_minor": 5
}
